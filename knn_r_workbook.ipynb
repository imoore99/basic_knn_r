{
 "cells": [
  {
   "cell_type": "markdown",
   "id": "bf05765d",
   "metadata": {},
   "source": [
    "#### Import Packages"
   ]
  },
  {
   "cell_type": "code",
   "execution_count": 19,
   "id": "7bb15475",
   "metadata": {
    "vscode": {
     "languageId": "r"
    }
   },
   "outputs": [],
   "source": [
    "library(ISLR)\n",
    "library(regtools)\n",
    "library(qeML)\n",
    "\n",
    "options(warn = -1) # Disable warnings globally"
   ]
  },
  {
   "cell_type": "markdown",
   "id": "28786ebc",
   "metadata": {},
   "source": [
    "#### Import data"
   ]
  },
  {
   "cell_type": "code",
   "execution_count": 20,
   "id": "f85d8319",
   "metadata": {
    "vscode": {
     "languageId": "r"
    }
   },
   "outputs": [],
   "source": [
    "data(\"Credit\", package = \"ISLR\")"
   ]
  },
  {
   "cell_type": "code",
   "execution_count": 21,
   "id": "cc01f2be",
   "metadata": {
    "vscode": {
     "languageId": "r"
    }
   },
   "outputs": [
    {
     "data": {
      "text/html": [
       "<table class=\"dataframe\">\n",
       "<caption>A data.frame: 6 × 12</caption>\n",
       "<thead>\n",
       "\t<tr><th></th><th scope=col>ID</th><th scope=col>Income</th><th scope=col>Limit</th><th scope=col>Rating</th><th scope=col>Cards</th><th scope=col>Age</th><th scope=col>Education</th><th scope=col>Gender</th><th scope=col>Student</th><th scope=col>Married</th><th scope=col>Ethnicity</th><th scope=col>Balance</th></tr>\n",
       "\t<tr><th></th><th scope=col>&lt;int&gt;</th><th scope=col>&lt;dbl&gt;</th><th scope=col>&lt;int&gt;</th><th scope=col>&lt;int&gt;</th><th scope=col>&lt;int&gt;</th><th scope=col>&lt;int&gt;</th><th scope=col>&lt;int&gt;</th><th scope=col>&lt;fct&gt;</th><th scope=col>&lt;fct&gt;</th><th scope=col>&lt;fct&gt;</th><th scope=col>&lt;fct&gt;</th><th scope=col>&lt;int&gt;</th></tr>\n",
       "</thead>\n",
       "<tbody>\n",
       "\t<tr><th scope=row>1</th><td>1</td><td> 14.891</td><td>3606</td><td>283</td><td>2</td><td>34</td><td>11</td><td> Male </td><td>No </td><td>Yes</td><td>Caucasian</td><td> 333</td></tr>\n",
       "\t<tr><th scope=row>2</th><td>2</td><td>106.025</td><td>6645</td><td>483</td><td>3</td><td>82</td><td>15</td><td>Female</td><td>Yes</td><td>Yes</td><td>Asian    </td><td> 903</td></tr>\n",
       "\t<tr><th scope=row>3</th><td>3</td><td>104.593</td><td>7075</td><td>514</td><td>4</td><td>71</td><td>11</td><td> Male </td><td>No </td><td>No </td><td>Asian    </td><td> 580</td></tr>\n",
       "\t<tr><th scope=row>4</th><td>4</td><td>148.924</td><td>9504</td><td>681</td><td>3</td><td>36</td><td>11</td><td>Female</td><td>No </td><td>No </td><td>Asian    </td><td> 964</td></tr>\n",
       "\t<tr><th scope=row>5</th><td>5</td><td> 55.882</td><td>4897</td><td>357</td><td>2</td><td>68</td><td>16</td><td> Male </td><td>No </td><td>Yes</td><td>Caucasian</td><td> 331</td></tr>\n",
       "\t<tr><th scope=row>6</th><td>6</td><td> 80.180</td><td>8047</td><td>569</td><td>4</td><td>77</td><td>10</td><td> Male </td><td>No </td><td>No </td><td>Caucasian</td><td>1151</td></tr>\n",
       "</tbody>\n",
       "</table>\n"
      ],
      "text/latex": [
       "A data.frame: 6 × 12\n",
       "\\begin{tabular}{r|llllllllllll}\n",
       "  & ID & Income & Limit & Rating & Cards & Age & Education & Gender & Student & Married & Ethnicity & Balance\\\\\n",
       "  & <int> & <dbl> & <int> & <int> & <int> & <int> & <int> & <fct> & <fct> & <fct> & <fct> & <int>\\\\\n",
       "\\hline\n",
       "\t1 & 1 &  14.891 & 3606 & 283 & 2 & 34 & 11 &  Male  & No  & Yes & Caucasian &  333\\\\\n",
       "\t2 & 2 & 106.025 & 6645 & 483 & 3 & 82 & 15 & Female & Yes & Yes & Asian     &  903\\\\\n",
       "\t3 & 3 & 104.593 & 7075 & 514 & 4 & 71 & 11 &  Male  & No  & No  & Asian     &  580\\\\\n",
       "\t4 & 4 & 148.924 & 9504 & 681 & 3 & 36 & 11 & Female & No  & No  & Asian     &  964\\\\\n",
       "\t5 & 5 &  55.882 & 4897 & 357 & 2 & 68 & 16 &  Male  & No  & Yes & Caucasian &  331\\\\\n",
       "\t6 & 6 &  80.180 & 8047 & 569 & 4 & 77 & 10 &  Male  & No  & No  & Caucasian & 1151\\\\\n",
       "\\end{tabular}\n"
      ],
      "text/markdown": [
       "\n",
       "A data.frame: 6 × 12\n",
       "\n",
       "| <!--/--> | ID &lt;int&gt; | Income &lt;dbl&gt; | Limit &lt;int&gt; | Rating &lt;int&gt; | Cards &lt;int&gt; | Age &lt;int&gt; | Education &lt;int&gt; | Gender &lt;fct&gt; | Student &lt;fct&gt; | Married &lt;fct&gt; | Ethnicity &lt;fct&gt; | Balance &lt;int&gt; |\n",
       "|---|---|---|---|---|---|---|---|---|---|---|---|---|\n",
       "| 1 | 1 |  14.891 | 3606 | 283 | 2 | 34 | 11 |  Male  | No  | Yes | Caucasian |  333 |\n",
       "| 2 | 2 | 106.025 | 6645 | 483 | 3 | 82 | 15 | Female | Yes | Yes | Asian     |  903 |\n",
       "| 3 | 3 | 104.593 | 7075 | 514 | 4 | 71 | 11 |  Male  | No  | No  | Asian     |  580 |\n",
       "| 4 | 4 | 148.924 | 9504 | 681 | 3 | 36 | 11 | Female | No  | No  | Asian     |  964 |\n",
       "| 5 | 5 |  55.882 | 4897 | 357 | 2 | 68 | 16 |  Male  | No  | Yes | Caucasian |  331 |\n",
       "| 6 | 6 |  80.180 | 8047 | 569 | 4 | 77 | 10 |  Male  | No  | No  | Caucasian | 1151 |\n",
       "\n"
      ],
      "text/plain": [
       "  ID Income  Limit Rating Cards Age Education Gender Student Married Ethnicity\n",
       "1 1   14.891 3606  283    2     34  11         Male  No      Yes     Caucasian\n",
       "2 2  106.025 6645  483    3     82  15        Female Yes     Yes     Asian    \n",
       "3 3  104.593 7075  514    4     71  11         Male  No      No      Asian    \n",
       "4 4  148.924 9504  681    3     36  11        Female No      No      Asian    \n",
       "5 5   55.882 4897  357    2     68  16         Male  No      Yes     Caucasian\n",
       "6 6   80.180 8047  569    4     77  10         Male  No      No      Caucasian\n",
       "  Balance\n",
       "1  333   \n",
       "2  903   \n",
       "3  580   \n",
       "4  964   \n",
       "5  331   \n",
       "6 1151   "
      ]
     },
     "metadata": {},
     "output_type": "display_data"
    }
   ],
   "source": [
    "# inpsect data\n",
    "head(Credit)"
   ]
  },
  {
   "cell_type": "code",
   "execution_count": 22,
   "id": "3c03d0ab",
   "metadata": {
    "vscode": {
     "languageId": "r"
    }
   },
   "outputs": [],
   "source": [
    "Credit$Utilization <- round((Credit$Balance/Credit$Limit)*100, 2)"
   ]
  },
  {
   "cell_type": "markdown",
   "id": "1d146734",
   "metadata": {},
   "source": [
    "#### KNN Methods"
   ]
  },
  {
   "cell_type": "markdown",
   "id": "3339514b",
   "metadata": {},
   "source": [
    "##### Method 1: Manual"
   ]
  },
  {
   "cell_type": "code",
   "execution_count": 23,
   "id": "679c0ffa",
   "metadata": {
    "vscode": {
     "languageId": "r"
    }
   },
   "outputs": [
    {
     "name": "stdout",
     "output_type": "stream",
     "text": [
      " [1] 1.485 1.788 3.893 4.483 4.593 5.807 6.025 6.961 7.614 7.841\n"
     ]
    }
   ],
   "source": [
    "### lets estimate their utilization rate based on income of 100\n",
    "inc <- Credit$Inc # isolate income feature\n",
    "inc_pred <- 100\n",
    "\n",
    "dists <- abs(inc-inc_pred) # distances to 100\n",
    "\n",
    "dist_10 <- order(dists)[1:10] # Identify closest 10 data points\n",
    "\n",
    "print(dists[dist_10])"
   ]
  },
  {
   "cell_type": "code",
   "execution_count": 24,
   "id": "c5f01716",
   "metadata": {
    "vscode": {
     "languageId": "r"
    }
   },
   "outputs": [
    {
     "name": "stdout",
     "output_type": "stream",
     "text": [
      " [1] 14.04 10.57  9.02  8.17  8.20 11.17 13.59 10.12 10.97 15.38\n"
     ]
    }
   ],
   "source": [
    "closest_10 <- Credit$Utilization[dist_10]\n",
    "print(closest_10)"
   ]
  },
  {
   "cell_type": "code",
   "execution_count": 25,
   "id": "343af155",
   "metadata": {
    "vscode": {
     "languageId": "r"
    }
   },
   "outputs": [
    {
     "name": "stdout",
     "output_type": "stream",
     "text": [
      "[1] 11.123\n"
     ]
    }
   ],
   "source": [
    "util_pred <- mean(closest_10)\n",
    "print(util_pred)"
   ]
  },
  {
   "cell_type": "markdown",
   "id": "71bf7b2c",
   "metadata": {},
   "source": [
    "Not bad for a manual run of our data. We can see that for an income of 100, an average utilization rate is roughly 11%. However, if we review the 10 closest, we can see there is signficant range between the values - from 8.17% to 15.38%. And we can see five values cluster between 8 and 10%. \n",
    "\n",
    "This raises the question, are we sure we have actually chosen the best k for our estimate? Lets use a loss function, MAPE, to ensure we have identified the best set of k for determining our output."
   ]
  },
  {
   "cell_type": "code",
   "execution_count": 40,
   "id": "13fe9a8f",
   "metadata": {
    "vscode": {
     "languageId": "r"
    }
   },
   "outputs": [],
   "source": [
    "mape_function <- function(actual, predict) {\n",
    "    mape <- mean(abs((actual - predict) / actual)) * 100\n",
    "}"
   ]
  },
  {
   "cell_type": "code",
   "execution_count": 41,
   "id": "2f08c70c",
   "metadata": {
    "vscode": {
     "languageId": "r"
    }
   },
   "outputs": [
    {
     "name": "stdout",
     "output_type": "stream",
     "text": [
      "[1] 17.86722\n"
     ]
    }
   ],
   "source": [
    "mape <- mape_function(closest_10, util_pred)\n",
    "print(mape)"
   ]
  },
  {
   "cell_type": "code",
   "execution_count": 28,
   "id": "b143e880",
   "metadata": {
    "vscode": {
     "languageId": "r"
    }
   },
   "outputs": [
    {
     "name": "stdout",
     "output_type": "stream",
     "text": [
      "[1] \"k at 3 | MAPE: 16.83 | Pred Utilization: 11.21%\"\n",
      "[1] \"k at 4 | MAPE: 17.62 | Pred Utilization: 10.45%\"\n",
      "[1] \"k at 5 | MAPE: 17.88 | Pred Utilization: 10%\"\n",
      "[1] \"k at 6 | MAPE: 16.97 | Pred Utilization: 10.195%\"\n",
      "[1] \"k at 7 | MAPE: 18.59 | Pred Utilization: 10.68%\"\n",
      "[1] \"k at 8 | MAPE: 16.68 | Pred Utilization: 10.61%\"\n",
      "[1] \"k at 9 | MAPE: 15.29 | Pred Utilization: 10.65%\"\n",
      "[1] \"k at 10 | MAPE: 17.87 | Pred Utilization: 11.123%\"\n"
     ]
    }
   ],
   "source": [
    "k_range = c(3, 4, 5, 6, 7, 8, 9, 10)\n",
    "\n",
    "for (k in k_range) {\n",
    "    # rerun dist calcs\n",
    "    dists <- abs(inc-inc_pred) # distances to 100\n",
    "    dist_k <- order(dists)[1:k] # Identify closest 10 data points\n",
    "\n",
    "    # identify closest k utilization rates\n",
    "    closest_k <- Credit$Utilization[dist_k]\n",
    "    mean_k_pred <- mean(closest_k)\n",
    "    \n",
    "    mape_w_k <- round(mape_function(closest_k, mean_k_pred), 2)\n",
    "    print(paste0(\"k at \",k,\" | MAPE: \", mape_w_k,\" | Pred Utilization: \", mean_k_pred,\"%\" ))\n",
    "}"
   ]
  },
  {
   "cell_type": "markdown",
   "id": "b5d2b6f4",
   "metadata": {},
   "source": [
    "As we optimize for the best k, we can use our MAPE measurement as a guide. For example, if we loop through a range of k between 3 and 10, we see that the lowest MAPE is 15.29 at k=9. As a result, for this manually constructed KNN, we see that predicted utilization rate for someone with an income of 100 is 10.65%. "
   ]
  },
  {
   "cell_type": "markdown",
   "id": "47da709b",
   "metadata": {},
   "source": [
    "##### Method 2: Leverage regtools and qeML"
   ]
  },
  {
   "cell_type": "markdown",
   "id": "eec2a7f2",
   "metadata": {},
   "source": [
    "1) Basic Implementation - Single Feature with No Holdout"
   ]
  },
  {
   "cell_type": "code",
   "execution_count": 29,
   "id": "1211a695",
   "metadata": {
    "vscode": {
     "languageId": "r"
    }
   },
   "outputs": [],
   "source": [
    "set.seed(999) #establish a seed for our model"
   ]
  },
  {
   "cell_type": "code",
   "execution_count": 30,
   "id": "12d01344",
   "metadata": {
    "vscode": {
     "languageId": "r"
    }
   },
   "outputs": [],
   "source": [
    "#First, isolate columns we are interest in\n",
    "Credit_income <- Credit[c(\"Income\",\"Utilization\")]\n",
    "Credit_income <- as.data.frame(Credit_income)\n"
   ]
  },
  {
   "cell_type": "code",
   "execution_count": 31,
   "id": "722b836a",
   "metadata": {
    "vscode": {
     "languageId": "r"
    }
   },
   "outputs": [],
   "source": [
    "# Leverage qe KNN package for ease of use\n",
    "knnout <- qeKNN(Credit_income, \"Utilization\", k=5, holdout=NULL)"
   ]
  },
  {
   "cell_type": "code",
   "execution_count": 32,
   "id": "3ac349ea",
   "metadata": {
    "vscode": {
     "languageId": "r"
    }
   },
   "outputs": [
    {
     "name": "stdout",
     "output_type": "stream",
     "text": [
      "[1] \"At k=5: 10.98%\"\n"
     ]
    }
   ],
   "source": [
    "inc <- data.frame(Income=100)\n",
    "inc_pred <- predict(knnout, inc)\n",
    "\n",
    "print(paste0(\"At k=5: \", round(inc_pred, 2),\"%\"))"
   ]
  },
  {
   "cell_type": "markdown",
   "id": "e3d917d0",
   "metadata": {},
   "source": [
    "Now that we have a pre-packaged algorithm, and we use k = 5, we can see that the estiamted utilization rate is 10.98%. Given we opted for no holdout, we don't have a MAPE to calculate on a test set."
   ]
  },
  {
   "cell_type": "markdown",
   "id": "e6b2791f",
   "metadata": {},
   "source": [
    "2) Add a categorical feature with Holdout"
   ]
  },
  {
   "cell_type": "code",
   "execution_count": 33,
   "id": "ef2084b9",
   "metadata": {
    "vscode": {
     "languageId": "r"
    }
   },
   "outputs": [],
   "source": [
    "Credit_income_ed <- Credit[c(\"Income\", \"Education\", \"Utilization\")]\n",
    "Credit_income_ed <- as.data.frame(Credit_income_ed)"
   ]
  },
  {
   "cell_type": "code",
   "execution_count": 34,
   "id": "2cc8059f",
   "metadata": {
    "vscode": {
     "languageId": "r"
    }
   },
   "outputs": [
    {
     "name": "stdout",
     "output_type": "stream",
     "text": [
      "[1] \"At k=5: 10.65% | MAPE: 6.08\"\n"
     ]
    }
   ],
   "source": [
    "set.seed(999) #establish a seed for our model\n",
    "knnout <- qeKNN(Credit_income_ed, \"Utilization\", k=5)\n",
    "inc_ed <- data.frame(Income=100, Education=14)\n",
    "inc_ed_pred <- predict(knnout, inc_ed)\n",
    "mape <- knnout$testAcc\n",
    "\n",
    "print(paste0(\"At k=5: \", round(inc_ed_pred, 2),\"% | MAPE: \", round(mape, 2)))"
   ]
  },
  {
   "cell_type": "markdown",
   "id": "b877abc7",
   "metadata": {
    "vscode": {
     "languageId": "r"
    }
   },
   "source": [
    "After adding the variable, Education, we see that the estimated utilization rate stays the same at 10.65% and the MAPE is 5.54. However, just we did above, we need to optimize for k."
   ]
  },
  {
   "cell_type": "markdown",
   "id": "7a9b29c9",
   "metadata": {},
   "source": [
    "3) Optimizing k"
   ]
  },
  {
   "cell_type": "code",
   "execution_count": 35,
   "id": "67e5312e",
   "metadata": {
    "vscode": {
     "languageId": "r"
    }
   },
   "outputs": [
    {
     "name": "stdout",
     "output_type": "stream",
     "text": [
      "[1] \"At k=5: 10.65% | MAPE: 6.08\"\n",
      "[1] \"At k=6: 10.92% | MAPE: 5.73\"\n",
      "[1] \"At k=7: 11.4% | MAPE: 5.54\"\n",
      "[1] \"At k=8: 11.37% | MAPE: 5.63\"\n",
      "[1] \"At k=9: 11.75% | MAPE: 5.57\"\n",
      "[1] \"At k=10: 11.58% | MAPE: 5.5\"\n",
      "[1] \"At k=11: 11.63% | MAPE: 5.47\"\n",
      "[1] \"At k=12: 11.77% | MAPE: 5.47\"\n",
      "[1] \"At k=13: 11.38% | MAPE: 5.53\"\n",
      "[1] \"At k=14: 10.59% | MAPE: 5.66\"\n",
      "[1] \"At k=15: 9.88% | MAPE: 5.73\"\n"
     ]
    }
   ],
   "source": [
    "set.seed(999) #establish a seed for our model\n",
    "k_range <- c(5, 6, 7, 8, 9, 10, 11, 12, 13, 14, 15)\n",
    "\n",
    "for (k in k_range) {\n",
    "    set.seed(999) #establish a seed for our model\n",
    "    knnout <- qeKNN(Credit_income_ed, \"Utilization\", k=k)\n",
    "    inc_ed_pred <- predict(knnout, inc_ed)\n",
    "    mape <- knnout$testAcc\n",
    "    print(paste0(\"At k=\",k,\": \", round(inc_ed_pred, 2),\"% | MAPE: \", round(mape, 2)))\n",
    "}\n"
   ]
  },
  {
   "cell_type": "markdown",
   "id": "15164026",
   "metadata": {
    "vscode": {
     "languageId": "r"
    }
   },
   "source": [
    "After executing this for loop, we see that k = 11 and k = 12 result in a MAPE of 5.47%. In this regard, lets go with k = 11 as our optimized choice of prediction parameters."
   ]
  }
 ],
 "metadata": {
  "kernelspec": {
   "display_name": "R",
   "language": "R",
   "name": "ir"
  },
  "language_info": {
   "codemirror_mode": "r",
   "file_extension": ".r",
   "mimetype": "text/x-r-source",
   "name": "R",
   "pygments_lexer": "r",
   "version": "4.5.0"
  }
 },
 "nbformat": 4,
 "nbformat_minor": 5
}
